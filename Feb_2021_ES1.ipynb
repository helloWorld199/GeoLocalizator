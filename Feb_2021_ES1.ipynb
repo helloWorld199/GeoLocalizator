{
  "nbformat": 4,
  "nbformat_minor": 0,
  "metadata": {
    "colab": {
      "provenance": [],
      "authorship_tag": "ABX9TyMrDaMWYE5Ykkdx4tDyA32b",
      "include_colab_link": true
    },
    "kernelspec": {
      "name": "python3",
      "display_name": "Python 3"
    },
    "language_info": {
      "name": "python"
    }
  },
  "cells": [
    {
      "cell_type": "markdown",
      "metadata": {
        "id": "view-in-github",
        "colab_type": "text"
      },
      "source": [
        "<a href=\"https://colab.research.google.com/github/helloWorld199/GeoLocalizator/blob/master/Feb_2021_ES1.ipynb\" target=\"_parent\"><img src=\"https://colab.research.google.com/assets/colab-badge.svg\" alt=\"Open In Colab\"/></a>"
      ]
    },
    {
      "cell_type": "code",
      "execution_count": 2,
      "metadata": {
        "id": "bNUJQEkXjDl2"
      },
      "outputs": [],
      "source": [
        "import pandas as pd\n",
        "import numpy as np\n",
        "import matplotlib.pyplot as plt\n",
        "\n",
        "dataframe = pd.read_csv(\"https://openmv.net/file/raw-material-characterization.csv\")\n",
        "data = dataframe.to_numpy()\n",
        "A = data[:,2:].astype(np.float64)\n",
        "labels = data[:,1]\n",
        "groups = (\"Adequate\", \"Poor\")\n"
      ]
    },
    {
      "cell_type": "code",
      "source": [
        "print(\"Number of samples: \", len(labels))\n",
        "print(\"Number of 'Adequate' samples: \", np.sum(labels == \"Adequate\"))\n",
        "print(\"Number of 'Poor' samples: \", np.sum(labels == \"Poor\"))"
      ],
      "metadata": {
        "colab": {
          "base_uri": "https://localhost:8080/"
        },
        "id": "KW1i9DsPj1yi",
        "outputId": "f44d6348-f9d1-433f-8b5d-7704d3aaf852"
      },
      "execution_count": 13,
      "outputs": [
        {
          "output_type": "stream",
          "name": "stdout",
          "text": [
            "Number of samples:  24\n",
            "Number of 'Adequate' samples:  17\n",
            "Number of 'Poor' samples:  7\n"
          ]
        }
      ]
    },
    {
      "cell_type": "markdown",
      "source": [
        "Performing PCA"
      ],
      "metadata": {
        "id": "Zgl9iOsXkLqT"
      }
    },
    {
      "cell_type": "code",
      "source": [
        "A_mean = np.mean(A, axis=0)\n",
        "A_mean.shape\n",
        "U, s, VT = np.linalg.svd(A - A_mean.T, full_matrices = False)\n",
        "\n",
        "VT.shape"
      ],
      "metadata": {
        "colab": {
          "base_uri": "https://localhost:8080/"
        },
        "id": "37V1bJEzjN9h",
        "outputId": "1d8a5c3e-b2a9-4408-817b-51e74d8a234a"
      },
      "execution_count": 22,
      "outputs": [
        {
          "output_type": "execute_result",
          "data": {
            "text/plain": [
              "(6, 6)"
            ]
          },
          "metadata": {},
          "execution_count": 22
        }
      ]
    },
    {
      "cell_type": "code",
      "source": [
        "fig, ax = plt.subplots(nrows=1,ncols=1)\n",
        "plt.yscale(\"log\")\n",
        "ax.plot(s, \"o-\")"
      ],
      "metadata": {
        "colab": {
          "base_uri": "https://localhost:8080/",
          "height": 282
        },
        "id": "iu2bTAczksNL",
        "outputId": "3a839a04-3792-470a-e068-233411b2fd27"
      },
      "execution_count": 29,
      "outputs": [
        {
          "output_type": "execute_result",
          "data": {
            "text/plain": [
              "[<matplotlib.lines.Line2D at 0x7f3d68539d60>]"
            ]
          },
          "metadata": {},
          "execution_count": 29
        },
        {
          "output_type": "display_data",
          "data": {
            "text/plain": [
              "<Figure size 432x288 with 1 Axes>"
            ],
            "image/png": "[encoded data removed]"
          },
          "metadata": {
            "needs_background": "light"
          }
        }
      ]
    },
    {
      "cell_type": "code",
      "source": [
        "PHI = A @ VT.T"
      ],
      "metadata": {
        "id": "1Z0-Pz_FnUBM"
      },
      "execution_count": 34,
      "outputs": []
    },
    {
      "cell_type": "code",
      "source": [
        "fig, ax = plt.subplots(nrows=1,ncols=1)\n",
        "for i in range(PHI.shape[0]):\n",
        "  if(labels[i] ==  \"Adequate\"):\n",
        "    ax.scatter(PHI[i, 0], PHI[i, 1], c=\"g\")\n",
        "  if(labels[i] == \"Poor\"):\n",
        "    ax.scatter(PHI[i, 0], PHI[i, 1], c=\"r\")"
      ],
      "metadata": {
        "colab": {
          "base_uri": "https://localhost:8080/",
          "height": 265
        },
        "id": "ORws2zUopCJ2",
        "outputId": "6cc347df-8a76-4391-9045-fc3c343a7246"
      },
      "execution_count": 35,
      "outputs": [
        {
          "output_type": "display_data",
          "data": {
            "text/plain": [
              "<Figure size 432x288 with 1 Axes>"
            ],
            "image/png": "[encoded data removed]"
          },
          "metadata": {
            "needs_background": "light"
          }
        }
      ]
    }
  ]
}